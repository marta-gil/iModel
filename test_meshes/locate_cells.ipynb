{
 "cells": [
  {
   "cell_type": "markdown",
   "metadata": {
    "collapsed": true,
    "pycharm": {
     "name": "#%% md\n"
    }
   },
   "source": [
    "# Locate cells"
   ]
  },
  {
   "cell_type": "code",
   "execution_count": 2,
   "outputs": [
    {
     "name": "stdout",
     "output_type": "stream",
     "text": [
      "<xarray.Dataset>\n",
      "Dimensions:     (nCells: 2562)\n",
      "Coordinates:\n",
      "    units       object ...\n",
      "Dimensions without coordinates: nCells\n",
      "Data variables:\n",
      "    longitude   (nCells) float64 ...\n",
      "    latitude    (nCells) float64 ...\n",
      "    area        (nCells) float64 ...\n",
      "    resolution  (nCells) float64 ...\n",
      "    distance    (nCells) float64 ...\n",
      "Attributes:\n",
      "    long_name:  Longitude Cell\n",
      "    units:      degrees\n",
      "[68.90295908 27.01972387 28.50885085  3.03166617  3.83874516]\n",
      "[   3.63483051 -178.98003075  -95.20084702   -3.45872913    4.18159507]\n"
     ]
    }
   ],
   "source": [
    "import os\n",
    "import glob\n",
    "import pandas as pd\n",
    "import xarray as xr"
   ],
   "metadata": {
    "collapsed": false,
    "pycharm": {
     "name": "#%%\n"
    }
   }
  },
  {
   "cell_type": "markdown",
   "source": [
    "## Mesh2-lev4\n",
    "\n",
    "It works for level4 but it complains about 1 obtuse triangle.\n",
    "\n",
    "    Deriving grid metadata and writing output\n",
    "      number of obtuse triangles            1\n",
    "            3495        3533        3510\n",
    "            3495        3533        3510\n",
    "            3495        3533        3510\n",
    "            3495        3533        3510\n",
    "\n",
    "I want to understand what is the code printing."
   ],
   "metadata": {
    "collapsed": false,
    "pycharm": {
     "name": "#%% md\n"
    }
   }
  },
  {
   "cell_type": "code",
   "execution_count": null,
   "outputs": [],
   "source": [
    "name = 'mesh2'\n",
    "glev = '4'\n",
    "\n",
    "folder = 'test_meshes/' + name + '/meshes/'"
   ],
   "metadata": {
    "collapsed": false,
    "pycharm": {
     "name": "#%%\n"
    }
   }
  },
  {
   "cell_type": "code",
   "execution_count": 12,
   "outputs": [
    {
     "name": "stdout",
     "output_type": "stream",
     "text": [
      "       longitude   latitude\n",
      "0       3.634830  68.902957\n",
      "1    -178.980026  27.019723\n",
      "2     -95.200844  28.508850\n",
      "3      -3.458729   3.031666\n",
      "4       4.181595   3.838745\n",
      "...          ...        ...\n",
      "2557   13.473684 -24.779492\n",
      "2558   14.205381 -29.473661\n",
      "2559  -12.575546 -21.732698\n",
      "2560   -8.549159 -19.868459\n",
      "2561  -13.418076 -26.793018\n",
      "\n",
      "[2562 rows x 2 columns]\n"
     ]
    }
   ],
   "source": [
    "# the nodes.gmt file gives longitude and latitude of Cell centers\n",
    "# proof:\n",
    "\n",
    "mpasgrid = folder + name + '-lev' + glev + '_grid.nc-reduced'\n",
    "mps = xr.open_dataset(mpasgrid)\n",
    "\n",
    "print(mps)\n",
    "first = mps.isel(nCells=range(5))\n",
    "\n",
    "print(first['latitude'].values)\n",
    "print(first['longitude'].values)\n",
    "\n",
    "nodesfile = folder + 'icos_ref_scvt_h1_' + glev + '_nodes.gmt'\n",
    "\n",
    "df = pd.read_fwf(nodesfile, header=None, index_col=None, names=['longitude', 'latitude'])\n",
    "print(df)"
   ],
   "metadata": {
    "collapsed": false,
    "pycharm": {
     "name": "#%%\n"
    }
   }
  },
  {
   "cell_type": "code",
   "execution_count": 13,
   "outputs": [
    {
     "name": "stdout",
     "output_type": "stream",
     "text": [
      "<xarray.Dataset>\n",
      "Dimensions:            (nCells: 2562, nEdges: 7680, nVertices: 5120, TWO: 2, maxEdges: 12, maxEdges2: 24, vertexDegree: 3)\n",
      "Dimensions without coordinates: nCells, nEdges, nVertices, TWO, maxEdges, maxEdges2, vertexDegree\n",
      "Data variables: (12/40)\n",
      "    latCell            (nCells) float64 ...\n",
      "    lonCell            (nCells) float64 ...\n",
      "    meshDensity        (nCells) float64 ...\n",
      "    xCell              (nCells) float64 ...\n",
      "    yCell              (nCells) float64 ...\n",
      "    zCell              (nCells) float64 ...\n",
      "    ...                 ...\n",
      "    verticesOnEdge     (nEdges, TWO) int32 ...\n",
      "    edgesOnVertex      (nVertices, vertexDegree) int32 ...\n",
      "    cellsOnVertex      (nVertices, vertexDegree) int32 ...\n",
      "    kiteAreasOnVertex  (nVertices, vertexDegree) float64 ...\n",
      "    fEdge              (nEdges) float64 ...\n",
      "    fVertex            (nVertices) float64 ...\n",
      "Attributes:\n",
      "    on_a_sphere:        YES             \n",
      "    sphere_radius:      1.0\n",
      "    np:                 2562\n",
      "    n_scvt_iterations:  0\n",
      "    eps:                1e-10\n",
      "    Convergence:        L2\n"
     ]
    }
   ],
   "source": [
    "mpasfile = folder + name + '-lev' + glev + '_grid.nc'\n",
    "mpsfull = xr.open_dataset(mpasfile)\n",
    "\n",
    "print(mpsfull)"
   ],
   "metadata": {
    "collapsed": false,
    "pycharm": {
     "name": "#%%\n"
    }
   }
  },
  {
   "cell_type": "code",
   "execution_count": null,
   "outputs": [],
   "source": [],
   "metadata": {
    "collapsed": false,
    "pycharm": {
     "name": "#%%\n"
    }
   }
  }
 ],
 "metadata": {
  "kernelspec": {
   "name": "dades",
   "language": "python",
   "display_name": "Dades"
  },
  "language_info": {
   "codemirror_mode": {
    "name": "ipython",
    "version": 2
   },
   "file_extension": ".py",
   "mimetype": "text/x-python",
   "name": "python",
   "nbconvert_exporter": "python",
   "pygments_lexer": "ipython2",
   "version": "2.7.6"
  }
 },
 "nbformat": 4,
 "nbformat_minor": 0
}