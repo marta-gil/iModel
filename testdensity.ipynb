{
 "cells": [
  {
   "cell_type": "code",
   "execution_count": 1,
   "id": "2d50a0d1",
   "metadata": {},
   "outputs": [],
   "source": [
    "import numpy as np\n",
    "import math\n",
    "import matplotlib.pyplot as plt"
   ]
  },
  {
   "cell_type": "code",
   "execution_count": 2,
   "id": "53fd9b9f",
   "metadata": {},
   "outputs": [],
   "source": [
    "def densf(lat, lon, gammas=5, radkm=500, epsilons=5000):\n",
    "\n",
    "    lat, lon = map(np.radians, [lat, lon])\n",
    "    haver_formula = np.sin(lat / 2.0) ** 2 + \\\n",
    "                    np.cos(lat) * np.sin(lon / 2.0) ** 2\n",
    "    \n",
    "    dists = 2 * np.arcsin(np.sqrt(haver_formula)) * 6367\n",
    "\n",
    "    if dists <= radkm:\n",
    "        # Point close to the center\n",
    "        dens_f = gammas**4\n",
    "        \n",
    "    elif dists <= radkm + epsilons:\n",
    "        # Point in the transition\n",
    "        sx = (dists - radkm) / epsilons\n",
    "        dens_f=((1-sx)*gammas+sx)**4\n",
    "        \n",
    "    else:\n",
    "        # Point far from the center\n",
    "        dens_f = 1\n",
    "        \n",
    "    dens_f = dens_f/gammas**4\n",
    "    \n",
    "    return dens_f\n",
    "    "
   ]
  },
  {
   "cell_type": "code",
   "execution_count": 3,
   "id": "3139b5a0",
   "metadata": {},
   "outputs": [
    {
     "name": "stdout",
     "output_type": "stream",
     "text": [
      "[[-40 -39 -38 ...  37  38  39]\n",
      " [-40 -39 -38 ...  37  38  39]\n",
      " [-40 -39 -38 ...  37  38  39]\n",
      " ...\n",
      " [-40 -39 -38 ...  37  38  39]\n",
      " [-40 -39 -38 ...  37  38  39]\n",
      " [-40 -39 -38 ...  37  38  39]] [[-40 -40 -40 ... -40 -40 -40]\n",
      " [-39 -39 -39 ... -39 -39 -39]\n",
      " [-38 -38 -38 ... -38 -38 -38]\n",
      " ...\n",
      " [ 37  37  37 ...  37  37  37]\n",
      " [ 38  38  38 ...  38  38  38]\n",
      " [ 39  39  39 ...  39  39  39]]\n"
     ]
    }
   ],
   "source": [
    "lat = np.arange(-40, 40, 1)\n",
    "lon = np.arange(-40, 40, 1)\n",
    "lonX, latY = np.meshgrid(lon, lat)\n",
    "print(lonX, latY)"
   ]
  },
  {
   "cell_type": "code",
   "execution_count": 4,
   "id": "b1ea896f",
   "metadata": {},
   "outputs": [],
   "source": [
    "densf_vec = np.vectorize(densf)"
   ]
  },
  {
   "cell_type": "code",
   "execution_count": 5,
   "id": "3c8d4fe6",
   "metadata": {},
   "outputs": [],
   "source": [
    "d = densf_vec(latY, lonX)"
   ]
  },
  {
   "cell_type": "code",
   "execution_count": 6,
   "id": "e52b50db",
   "metadata": {},
   "outputs": [
    {
     "name": "stdout",
     "output_type": "stream",
     "text": [
      "[[0.0016 0.0016 0.0016 ... 0.0016 0.0016 0.0016]\n",
      " [0.0016 0.0016 0.0016 ... 0.0016 0.0016 0.0016]\n",
      " [0.0016 0.0016 0.0016 ... 0.0016 0.0016 0.0016]\n",
      " ...\n",
      " [0.0016 0.0016 0.0016 ... 0.0016 0.0016 0.0016]\n",
      " [0.0016 0.0016 0.0016 ... 0.0016 0.0016 0.0016]\n",
      " [0.0016 0.0016 0.0016 ... 0.0016 0.0016 0.0016]]\n"
     ]
    }
   ],
   "source": [
    "print(d)"
   ]
  },
  {
   "cell_type": "code",
   "execution_count": 7,
   "id": "fa4b87a5",
   "metadata": {},
   "outputs": [
    {
     "data": {
      "image/png": "[encoded data removed]",
      "text/plain": [
       "<Figure size 432x288 with 2 Axes>"
      ]
     },
     "metadata": {
      "needs_background": "light"
     },
     "output_type": "display_data"
    }
   ],
   "source": [
    "fig, ax = plt.subplots()\n",
    "im = ax.pcolormesh(lonX, latY, d, shading='nearest')\n",
    "ax.set_aspect('equal')\n",
    "fig.colorbar(im, ax=ax)\n",
    "plt.show()"
   ]
  },
  {
   "cell_type": "code",
   "execution_count": 16,
   "id": "81916caf",
   "metadata": {},
   "outputs": [],
   "source": [
    "def uarea2res(area):\n",
    "    radiuse = 6370\n",
    "    areae = area*radiuse**2\n",
    "    diam = 2*np.sqrt(areae/math.pi)\n",
    "    return diam"
   ]
  },
  {
   "cell_type": "code",
   "execution_count": 19,
   "id": "51083e09",
   "metadata": {},
   "outputs": [
    {
     "data": {
      "text/plain": [
       "10.165049304628504"
      ]
     },
     "execution_count": 19,
     "metadata": {},
     "output_type": "execute_result"
    }
   ],
   "source": [
    "uarea2res(0.000002)"
   ]
  },
  {
   "cell_type": "code",
   "execution_count": 20,
   "id": "fba70827",
   "metadata": {},
   "outputs": [
    {
     "data": {
      "text/plain": [
       "168.2615056932357"
      ]
     },
     "execution_count": 20,
     "metadata": {},
     "output_type": "execute_result"
    }
   ],
   "source": [
    "uarea2res(0.000548)"
   ]
  },
  {
   "cell_type": "code",
   "execution_count": null,
   "id": "76f719de",
   "metadata": {},
   "outputs": [],
   "source": []
  }
 ],
 "metadata": {
  "kernelspec": {
   "display_name": "Python 3",
   "language": "python",
   "name": "python3"
  },
  "language_info": {
   "codemirror_mode": {
    "name": "ipython",
    "version": 3
   },
   "file_extension": ".py",
   "mimetype": "text/x-python",
   "name": "python",
   "nbconvert_exporter": "python",
   "pygments_lexer": "ipython3",
   "version": "3.8.8"
  }
 },
 "nbformat": 4,
 "nbformat_minor": 5
}
